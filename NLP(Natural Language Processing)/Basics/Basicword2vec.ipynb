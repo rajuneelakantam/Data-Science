{
 "cells": [
  {
   "cell_type": "code",
   "execution_count": 1,
   "metadata": {},
   "outputs": [],
   "source": [
    "import nltk"
   ]
  },
  {
   "cell_type": "code",
   "execution_count": 5,
   "metadata": {},
   "outputs": [],
   "source": [
    "from gensim.models import Word2Vec"
   ]
  },
  {
   "cell_type": "code",
   "execution_count": 6,
   "metadata": {},
   "outputs": [],
   "source": [
    "from nltk.corpus import stopwords"
   ]
  },
  {
   "cell_type": "code",
   "execution_count": 7,
   "metadata": {},
   "outputs": [],
   "source": [
    "import re"
   ]
  },
  {
   "cell_type": "code",
   "execution_count": 8,
   "metadata": {},
   "outputs": [],
   "source": [
    "paragraph = \"\"\"I have three visions for India. In 3000 years of our history, people from all over \n",
    "               the world have come and invaded us, captured our lands, conquered our minds. \n",
    "               From Alexander onwards, the Greeks, the Turks, the Moguls, the Portuguese, the British,\n",
    "               the French, the Dutch, all of them came and looted us, took over what was ours. \n",
    "               Yet we have not done this to any other nation. We have not conquered anyone. \n",
    "               We have not grabbed their land, their culture, \n",
    "               their history and tried to enforce our way of life on them. \n",
    "               Why? Because we respect the freedom of others.That is why my \n",
    "               first vision is that of freedom. I believe that India got its first vision of \n",
    "               this in 1857, when we started the War of Independence. It is this freedom that\n",
    "               we must protect and nurture and build on. If we are not free, no one will respect us.\n",
    "               My second vision for India’s development. For fifty years we have been a developing nation.\n",
    "               It is time we see ourselves as a developed nation. We are among the top 5 nations of the world\n",
    "               in terms of GDP. We have a 10 percent growth rate in most areas. Our poverty levels are falling.\n",
    "               Our achievements are being globally recognised today. Yet we lack the self-confidence to\n",
    "               see ourselves as a developed nation, self-reliant and self-assured. Isn’t this incorrect?\n",
    "               I have a third vision. India must stand up to the world. Because I believe that unless India \n",
    "               stands up to the world, no one will respect us. Only strength respects strength. We must be \n",
    "               strong not only as a military power but also as an economic power. Both must go hand-in-hand. \n",
    "               My good fortune was to have worked with three great minds. Dr. Vikram Sarabhai of the Dept. of \n",
    "               space, Professor Satish Dhawan, who succeeded him and Dr. Brahm Prakash, father of nuclear material.\n",
    "               I was lucky to have worked with all three of them closely and consider this the great opportunity of my life. \n",
    "               I see four milestones in my career\"\"\"\n"
   ]
  },
  {
   "cell_type": "code",
   "execution_count": 10,
   "metadata": {},
   "outputs": [],
   "source": [
    "#Preprocessing the data\n",
    "text = re.sub(r'\\[[0-9]*\\]',' ', paragraph)\n",
    "text = re.sub(r'\\s+',' ', text)\n",
    "text = text.lower()\n",
    "text = re.sub(r'\\d',' ', text)\n",
    "text = re.sub(r'\\s+',' ', text)"
   ]
  },
  {
   "cell_type": "code",
   "execution_count": 11,
   "metadata": {},
   "outputs": [],
   "source": [
    "# Preparing the dataset\n",
    "sentences = nltk.sent_tokenize(text)"
   ]
  },
  {
   "cell_type": "code",
   "execution_count": 12,
   "metadata": {},
   "outputs": [],
   "source": [
    "sentences = [nltk.word_tokenize(sentence) for sentence in sentences]"
   ]
  },
  {
   "cell_type": "code",
   "execution_count": 13,
   "metadata": {},
   "outputs": [],
   "source": [
    "for i in range(len(sentences)):\n",
    "    sentences[i] = [word for word in sentences[i] if word not in stopwords.words('english')]"
   ]
  },
  {
   "cell_type": "code",
   "execution_count": 14,
   "metadata": {},
   "outputs": [],
   "source": [
    "# Training the word2vec model\n",
    "model = Word2Vec(sentences, min_count = 1)"
   ]
  },
  {
   "cell_type": "code",
   "execution_count": 15,
   "metadata": {},
   "outputs": [],
   "source": [
    "words = model.wv.vocab"
   ]
  },
  {
   "cell_type": "code",
   "execution_count": 16,
   "metadata": {
    "scrolled": true
   },
   "outputs": [
    {
     "data": {
      "text/plain": [
       "{'three': <gensim.models.keyedvectors.Vocab at 0x16ebd344f88>,\n",
       " 'visions': <gensim.models.keyedvectors.Vocab at 0x16ebd3442c8>,\n",
       " 'india': <gensim.models.keyedvectors.Vocab at 0x16ebd344548>,\n",
       " '.': <gensim.models.keyedvectors.Vocab at 0x16ebd344948>,\n",
       " 'years': <gensim.models.keyedvectors.Vocab at 0x16ebd344a48>,\n",
       " 'history': <gensim.models.keyedvectors.Vocab at 0x16ebd344e48>,\n",
       " ',': <gensim.models.keyedvectors.Vocab at 0x16ebd344dc8>,\n",
       " 'people': <gensim.models.keyedvectors.Vocab at 0x16ebd344688>,\n",
       " 'world': <gensim.models.keyedvectors.Vocab at 0x16ebd344cc8>,\n",
       " 'come': <gensim.models.keyedvectors.Vocab at 0x16ebd344b08>,\n",
       " 'invaded': <gensim.models.keyedvectors.Vocab at 0x16ebd344c48>,\n",
       " 'us': <gensim.models.keyedvectors.Vocab at 0x16ebd3443c8>,\n",
       " 'captured': <gensim.models.keyedvectors.Vocab at 0x16ebd344508>,\n",
       " 'lands': <gensim.models.keyedvectors.Vocab at 0x16ebd3444c8>,\n",
       " 'conquered': <gensim.models.keyedvectors.Vocab at 0x16ebd344408>,\n",
       " 'minds': <gensim.models.keyedvectors.Vocab at 0x16ebd344bc8>,\n",
       " 'alexander': <gensim.models.keyedvectors.Vocab at 0x16ebd344348>,\n",
       " 'onwards': <gensim.models.keyedvectors.Vocab at 0x16ebd344588>,\n",
       " 'greeks': <gensim.models.keyedvectors.Vocab at 0x16ebd344788>,\n",
       " 'turks': <gensim.models.keyedvectors.Vocab at 0x16ebd3449c8>,\n",
       " 'moguls': <gensim.models.keyedvectors.Vocab at 0x16ebd344fc8>,\n",
       " 'portuguese': <gensim.models.keyedvectors.Vocab at 0x16ebd344608>,\n",
       " 'british': <gensim.models.keyedvectors.Vocab at 0x16ebd348e88>,\n",
       " 'french': <gensim.models.keyedvectors.Vocab at 0x16ebd3483c8>,\n",
       " 'dutch': <gensim.models.keyedvectors.Vocab at 0x16ebd348f88>,\n",
       " 'came': <gensim.models.keyedvectors.Vocab at 0x16ebd348908>,\n",
       " 'looted': <gensim.models.keyedvectors.Vocab at 0x16ebd3482c8>,\n",
       " 'took': <gensim.models.keyedvectors.Vocab at 0x16ebd348948>,\n",
       " 'yet': <gensim.models.keyedvectors.Vocab at 0x16ebd348b88>,\n",
       " 'done': <gensim.models.keyedvectors.Vocab at 0x16ebd3481c8>,\n",
       " 'nation': <gensim.models.keyedvectors.Vocab at 0x16ebd348ec8>,\n",
       " 'anyone': <gensim.models.keyedvectors.Vocab at 0x16ebd348cc8>,\n",
       " 'grabbed': <gensim.models.keyedvectors.Vocab at 0x16ebd348108>,\n",
       " 'land': <gensim.models.keyedvectors.Vocab at 0x16ebd348c88>,\n",
       " 'culture': <gensim.models.keyedvectors.Vocab at 0x16ebd348a88>,\n",
       " 'tried': <gensim.models.keyedvectors.Vocab at 0x16ebd3484c8>,\n",
       " 'enforce': <gensim.models.keyedvectors.Vocab at 0x16ebd348c08>,\n",
       " 'way': <gensim.models.keyedvectors.Vocab at 0x16ebd348788>,\n",
       " 'life': <gensim.models.keyedvectors.Vocab at 0x16ebd348148>,\n",
       " '?': <gensim.models.keyedvectors.Vocab at 0x16ebd3485c8>,\n",
       " 'respect': <gensim.models.keyedvectors.Vocab at 0x16ebd348708>,\n",
       " 'freedom': <gensim.models.keyedvectors.Vocab at 0x16ebd348dc8>,\n",
       " 'others.that': <gensim.models.keyedvectors.Vocab at 0x16ebd348488>,\n",
       " 'first': <gensim.models.keyedvectors.Vocab at 0x16ebd348848>,\n",
       " 'vision': <gensim.models.keyedvectors.Vocab at 0x16ebd348348>,\n",
       " 'believe': <gensim.models.keyedvectors.Vocab at 0x16ebd3488c8>,\n",
       " 'got': <gensim.models.keyedvectors.Vocab at 0x16ebd348ac8>,\n",
       " 'started': <gensim.models.keyedvectors.Vocab at 0x16ebd348608>,\n",
       " 'war': <gensim.models.keyedvectors.Vocab at 0x16ebd342948>,\n",
       " 'independence': <gensim.models.keyedvectors.Vocab at 0x16ebd342748>,\n",
       " 'must': <gensim.models.keyedvectors.Vocab at 0x16ebd342cc8>,\n",
       " 'protect': <gensim.models.keyedvectors.Vocab at 0x16ebd342ac8>,\n",
       " 'nurture': <gensim.models.keyedvectors.Vocab at 0x16ebd342e08>,\n",
       " 'build': <gensim.models.keyedvectors.Vocab at 0x16ebd342988>,\n",
       " 'free': <gensim.models.keyedvectors.Vocab at 0x16ebd3429c8>,\n",
       " 'one': <gensim.models.keyedvectors.Vocab at 0x16ebd342d08>,\n",
       " 'second': <gensim.models.keyedvectors.Vocab at 0x16ebd342708>,\n",
       " '’': <gensim.models.keyedvectors.Vocab at 0x16ebd342a08>,\n",
       " 'development': <gensim.models.keyedvectors.Vocab at 0x16ebd342848>,\n",
       " 'fifty': <gensim.models.keyedvectors.Vocab at 0x16ebd342a88>,\n",
       " 'developing': <gensim.models.keyedvectors.Vocab at 0x16ebd342608>,\n",
       " 'time': <gensim.models.keyedvectors.Vocab at 0x16ebd342a48>,\n",
       " 'see': <gensim.models.keyedvectors.Vocab at 0x16ebd342f88>,\n",
       " 'developed': <gensim.models.keyedvectors.Vocab at 0x16ebd342c88>,\n",
       " 'among': <gensim.models.keyedvectors.Vocab at 0x16ebd342b88>,\n",
       " 'top': <gensim.models.keyedvectors.Vocab at 0x16ebd342788>,\n",
       " 'nations': <gensim.models.keyedvectors.Vocab at 0x16ebd342dc8>,\n",
       " 'terms': <gensim.models.keyedvectors.Vocab at 0x16ebd342bc8>,\n",
       " 'gdp': <gensim.models.keyedvectors.Vocab at 0x16ebd342d88>,\n",
       " 'percent': <gensim.models.keyedvectors.Vocab at 0x16ebd342b08>,\n",
       " 'growth': <gensim.models.keyedvectors.Vocab at 0x16ebd342b48>,\n",
       " 'rate': <gensim.models.keyedvectors.Vocab at 0x16ebd342e48>,\n",
       " 'areas': <gensim.models.keyedvectors.Vocab at 0x16ebd342f48>,\n",
       " 'poverty': <gensim.models.keyedvectors.Vocab at 0x16ebd342d48>,\n",
       " 'levels': <gensim.models.keyedvectors.Vocab at 0x16ebd342408>,\n",
       " 'falling': <gensim.models.keyedvectors.Vocab at 0x16ebd342c08>,\n",
       " 'achievements': <gensim.models.keyedvectors.Vocab at 0x16ebd342fc8>,\n",
       " 'globally': <gensim.models.keyedvectors.Vocab at 0x16ebd342c48>,\n",
       " 'recognised': <gensim.models.keyedvectors.Vocab at 0x16ebd342e88>,\n",
       " 'today': <gensim.models.keyedvectors.Vocab at 0x16ebd3427c8>,\n",
       " 'lack': <gensim.models.keyedvectors.Vocab at 0x16ebd342f08>,\n",
       " 'self-confidence': <gensim.models.keyedvectors.Vocab at 0x16ebd342888>,\n",
       " 'self-reliant': <gensim.models.keyedvectors.Vocab at 0x16ebd349208>,\n",
       " 'self-assured': <gensim.models.keyedvectors.Vocab at 0x16ebd349508>,\n",
       " 'incorrect': <gensim.models.keyedvectors.Vocab at 0x16ebd349988>,\n",
       " 'third': <gensim.models.keyedvectors.Vocab at 0x16ebd349548>,\n",
       " 'stand': <gensim.models.keyedvectors.Vocab at 0x16ebd349108>,\n",
       " 'unless': <gensim.models.keyedvectors.Vocab at 0x16ebd349288>,\n",
       " 'stands': <gensim.models.keyedvectors.Vocab at 0x16ebd349348>,\n",
       " 'strength': <gensim.models.keyedvectors.Vocab at 0x16ebd349688>,\n",
       " 'respects': <gensim.models.keyedvectors.Vocab at 0x16ebd349fc8>,\n",
       " 'strong': <gensim.models.keyedvectors.Vocab at 0x16ebd349588>,\n",
       " 'military': <gensim.models.keyedvectors.Vocab at 0x16ebd349248>,\n",
       " 'power': <gensim.models.keyedvectors.Vocab at 0x16ebd349408>,\n",
       " 'also': <gensim.models.keyedvectors.Vocab at 0x16ebd3498c8>,\n",
       " 'economic': <gensim.models.keyedvectors.Vocab at 0x16ebd3493c8>,\n",
       " 'go': <gensim.models.keyedvectors.Vocab at 0x16ebd3497c8>,\n",
       " 'hand-in-hand': <gensim.models.keyedvectors.Vocab at 0x16ebd349948>,\n",
       " 'good': <gensim.models.keyedvectors.Vocab at 0x16ebd349e48>,\n",
       " 'fortune': <gensim.models.keyedvectors.Vocab at 0x16ebd349a08>,\n",
       " 'worked': <gensim.models.keyedvectors.Vocab at 0x16ebd349ec8>,\n",
       " 'great': <gensim.models.keyedvectors.Vocab at 0x16ebd349f88>,\n",
       " 'dr.': <gensim.models.keyedvectors.Vocab at 0x16ebd349f48>,\n",
       " 'vikram': <gensim.models.keyedvectors.Vocab at 0x16ebd349608>,\n",
       " 'sarabhai': <gensim.models.keyedvectors.Vocab at 0x16ebd349b48>,\n",
       " 'dept': <gensim.models.keyedvectors.Vocab at 0x16ebd349a88>,\n",
       " 'space': <gensim.models.keyedvectors.Vocab at 0x16ebd349c08>,\n",
       " 'professor': <gensim.models.keyedvectors.Vocab at 0x16ebd349a48>,\n",
       " 'satish': <gensim.models.keyedvectors.Vocab at 0x16ebd349d48>,\n",
       " 'dhawan': <gensim.models.keyedvectors.Vocab at 0x16ebd349bc8>,\n",
       " 'succeeded': <gensim.models.keyedvectors.Vocab at 0x16ebd346c48>,\n",
       " 'brahm': <gensim.models.keyedvectors.Vocab at 0x16ebd346848>,\n",
       " 'prakash': <gensim.models.keyedvectors.Vocab at 0x16ebd346608>,\n",
       " 'father': <gensim.models.keyedvectors.Vocab at 0x16ebd346fc8>,\n",
       " 'nuclear': <gensim.models.keyedvectors.Vocab at 0x16ebd346188>,\n",
       " 'material': <gensim.models.keyedvectors.Vocab at 0x16ebd346448>,\n",
       " 'lucky': <gensim.models.keyedvectors.Vocab at 0x16ebd346508>,\n",
       " 'closely': <gensim.models.keyedvectors.Vocab at 0x16ebd3460c8>,\n",
       " 'consider': <gensim.models.keyedvectors.Vocab at 0x16ebd3468c8>,\n",
       " 'opportunity': <gensim.models.keyedvectors.Vocab at 0x16ebd346d48>,\n",
       " 'four': <gensim.models.keyedvectors.Vocab at 0x16ebd346b08>,\n",
       " 'milestones': <gensim.models.keyedvectors.Vocab at 0x16ebd346488>,\n",
       " 'career': <gensim.models.keyedvectors.Vocab at 0x16ebd346808>}"
      ]
     },
     "execution_count": 16,
     "metadata": {},
     "output_type": "execute_result"
    }
   ],
   "source": [
    "words"
   ]
  },
  {
   "cell_type": "code",
   "execution_count": 18,
   "metadata": {},
   "outputs": [],
   "source": [
    "#finding Word Vectors\n",
    "vector = model.wv['freedom']"
   ]
  },
  {
   "cell_type": "code",
   "execution_count": 20,
   "metadata": {},
   "outputs": [],
   "source": [
    "#most similar Words\n",
    "similar = model.wv.most_similar('nation')"
   ]
  },
  {
   "cell_type": "code",
   "execution_count": 21,
   "metadata": {},
   "outputs": [
    {
     "data": {
      "text/plain": [
       "[('unless', 0.20100338757038116),\n",
       " ('moguls', 0.19820567965507507),\n",
       " ('four', 0.18741187453269958),\n",
       " ('nations', 0.18047961592674255),\n",
       " ('lack', 0.16785576939582825),\n",
       " ('globally', 0.16537931561470032),\n",
       " ('started', 0.1533489227294922),\n",
       " ('history', 0.14001823961734772),\n",
       " ('areas', 0.1345241516828537),\n",
       " ('others.that', 0.13203656673431396)]"
      ]
     },
     "execution_count": 21,
     "metadata": {},
     "output_type": "execute_result"
    }
   ],
   "source": [
    "similar"
   ]
  },
  {
   "cell_type": "code",
   "execution_count": null,
   "metadata": {},
   "outputs": [],
   "source": []
  }
 ],
 "metadata": {
  "kernelspec": {
   "display_name": "Python 3",
   "language": "python",
   "name": "python3"
  },
  "language_info": {
   "codemirror_mode": {
    "name": "ipython",
    "version": 3
   },
   "file_extension": ".py",
   "mimetype": "text/x-python",
   "name": "python",
   "nbconvert_exporter": "python",
   "pygments_lexer": "ipython3",
   "version": "3.7.6"
  }
 },
 "nbformat": 4,
 "nbformat_minor": 4
}
